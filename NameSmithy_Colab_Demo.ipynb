{
 "cells": [
  {
   "cell_type": "markdown",
   "metadata": {
    "id": "view-in-github",
    "colab_type": "text"
   },
   "source": "<a href=\"https://colab.research.google.com/github/MichaelMW/NameSmithy/blob/main/NameSmithy_Colab_Demo.ipynb\" target=\"_parent\"><img src=\"https://colab.research.google.com/assets/colab-badge.svg\" alt=\"Open In Colab\"/></a>",
   "outputs": []
  },
  {
   "cell_type": "markdown",
   "metadata": {
    "id": "title"
   },
   "source": [
    "# 🔨 NameSmithy - Interactive Baby Name Generator & Evaluator\n",
    "\n",
    "**GAN-Based Baby Name Generator trained on 140+ years of US naming data**\n",
    "\n",
    "✨ **Features:**\n",
    "- 🎯 Generate unique names that \"look\" popular using ML\n",
    "- 📊 Evaluate any name with historical context and scoring\n",
    "- 🧠 Trained on 77K+ names from 1880-2018 US data\n",
    "- 🚀 Instant results with no setup required\n",
    "\n",
    "**Instructions:** Run all cells below, then interact with the demo interface!"
   ]
  },
  {
   "cell_type": "markdown",
   "metadata": {
    "id": "install"
   },
   "source": [
    "## 📦 Install Dependencies"
   ]
  },
  {
   "cell_type": "code",
   "execution_count": null,
   "metadata": {
    "id": "install-deps"
   },
   "outputs": [],
   "source": [
    "!pip install gradio scikit-learn numpy requests -q\n",
    "print(\"✅ Dependencies installed!\")"
   ]
  },
  {
   "cell_type": "markdown",
   "metadata": {
    "id": "download-models"
   },
   "source": [
    "## 📥 Download Models and Data"
   ]
  },
  {
   "cell_type": "code",
   "metadata": {
    "id": "download-data"
   },
   "outputs": [],
   "source": "import requests\nimport pickle\nimport os\nfrom pathlib import Path\n\n# Create models directory\nos.makedirs('models', exist_ok=True)\n\n# Download model files from GitHub repository\nbase_url = \"https://github.com/MichaelMW/NameSmithy/raw/main/models\"\n\nfiles_to_download = [\n    (\"judge/gbr.n100.genz.v3\", \"GBR Model\"),\n    (\"names/genz.avg.tsv\", \"Names Database\"),\n    (\"badwords/bad.merged.txt\", \"Bad Words Filter\")\n]\n\nprint(\"📥 Downloading NameSmithy models...\")\nfor file_path, description in files_to_download:\n    url = f\"{base_url}/{file_path}\"\n    local_path = f\"models/{file_path}\"\n    \n    # Create directory if needed\n    os.makedirs(os.path.dirname(local_path), exist_ok=True)\n    \n    try:\n        print(f\"  📄 Downloading {description}...\")\n        response = requests.get(url, timeout=30)\n        response.raise_for_status()\n        \n        with open(local_path, 'wb') as f:\n            f.write(response.content)\n        print(f\"  ✅ {description} downloaded ({len(response.content)} bytes)\")\n    except Exception as e:\n        print(f\"  ❌ Failed to download {description}: {e}\")\n\nprint(\"\\n🎉 Model download completed!\")"
  },
  {
   "cell_type": "markdown",
   "metadata": {
    "id": "core-functions"
   },
   "source": [
    "## 🧠 Core NameSmithy Functions"
   ]
  },
  {
   "cell_type": "code",
   "execution_count": null,
   "metadata": {
    "id": "setup-core"
   },
   "outputs": [],
   "source": [
    "import numpy as np\n",
    "import pickle\n",
    "import time\n",
    "import random\n",
    "from pathlib import Path\n",
    "\n",
    "# Global variables\n",
    "gbr_model = None\n",
    "known_names = {}\n",
    "bad_words = set()\n",
    "\n",
    "# Character mapping for name vectorization\n",
    "chars = sorted(list(set('abcdefghijklmnopqrstuvwxyz ')))\n",
    "char_to_int = {c: i for i, c in enumerate(chars)}\n",
    "int_to_char = {i: c for i, c in enumerate(chars)}\n",
    "\n",
    "def name_to_vec(name, max_length=15):\n",
    "    \"\"\"Convert name to vector for ML model.\"\"\"\n",
    "    name = name.lower()\n",
    "    filler = max_length - len(name)\n",
    "    return [char_to_int.get(char, 0) for char in name + ' ' * filler]\n",
    "\n",
    "def format_score(score):\n",
    "    \"\"\"Format score for display.\"\"\"\n",
    "    if isinstance(score, str):\n",
    "        return score\n",
    "    return round(score * 100, 1) if score is not None else \"N/A\"\n",
    "\n",
    "def get_quality_tier(score):\n",
    "    \"\"\"Convert score to quality description.\"\"\"\n",
    "    if score < 0:\n",
    "        return \"Inappropriate\"\n",
    "    elif score < 0.2:\n",
    "        return \"Poor\"\n",
    "    elif score < 0.4:\n",
    "        return \"Fair\" \n",
    "    elif score < 0.6:\n",
    "        return \"Good\"\n",
    "    elif score < 0.8:\n",
    "        return \"Very Good\"\n",
    "    else:\n",
    "        return \"Excellent\"\n",
    "\n",
    "print(\"✅ Core functions defined!\")"
   ]
  },
  {
   "cell_type": "code",
   "execution_count": null,
   "metadata": {
    "id": "load-models"
   },
   "outputs": [],
   "source": [
    "def load_models():\n",
    "    \"\"\"Load all NameSmithy models and data.\"\"\"\n",
    "    global gbr_model, known_names, bad_words\n",
    "    \n",
    "    print(\"🔨 Loading NameSmithy models...\")\n",
    "    \n",
    "    # Load GBR model\n",
    "    try:\n",
    "        with open('models/judge/gbr.n100.genz.v3', 'rb') as f:\n",
    "            gbr_model = pickle.load(f)\n",
    "        print(\"✅ Loaded GBR scoring model\")\n",
    "    except Exception as e:\n",
    "        print(f\"❌ Could not load GBR model: {e}\")\n",
    "        gbr_model = None\n",
    "    \n",
    "    # Load known names database\n",
    "    try:\n",
    "        with open('models/names/genz.avg.tsv', 'r') as f:\n",
    "            for line in f.readlines():\n",
    "                parts = line.strip().split()\n",
    "                if len(parts) >= 3:\n",
    "                    name = parts[0]\n",
    "                    sex = 0 if parts[1] == \"F\" else 1\n",
    "                    rank = float(parts[2])\n",
    "                    vec = name_to_vec(name)\n",
    "                    feature_key = tuple([sex] + vec)\n",
    "                    known_names[feature_key] = rank\n",
    "        print(f\"✅ Loaded {len(known_names)} known names\")\n",
    "    except Exception as e:\n",
    "        print(f\"❌ Could not load names database: {e}\")\n",
    "    \n",
    "    # Load bad words filter\n",
    "    try:\n",
    "        with open('models/badwords/bad.merged.txt', 'r') as f:\n",
    "            for line in f.readlines():\n",
    "                word = line.strip().lower()\n",
    "                if word:\n",
    "                    bad_words.add(word)\n",
    "        print(f\"✅ Loaded {len(bad_words)} filtered words\")\n",
    "    except Exception as e:\n",
    "        print(f\"❌ Could not load bad words filter: {e}\")\n",
    "    \n",
    "    print(\"🎉 Model loading completed!\")\n",
    "\n",
    "# Load models now\n",
    "load_models()"
   ]
  },
  {
   "cell_type": "markdown",
   "metadata": {
    "id": "generation"
   },
   "source": [
    "## 🎯 Name Generation Logic"
   ]
  },
  {
   "cell_type": "code",
   "execution_count": null,
   "metadata": {
    "id": "generation-func"
   },
   "outputs": [],
   "source": [
    "def generate_name_simple(gender='F', seed=None):\n",
    "    \"\"\"Generate a name using simple pattern-based logic.\"\"\"\n",
    "    if seed is None:\n",
    "        seed = int(time.time() * 1000000) % 999999\n",
    "    \n",
    "    np.random.seed(seed)\n",
    "    random.seed(seed)\n",
    "    \n",
    "    name = \"\"\n",
    "    max_length = 12\n",
    "    \n",
    "    # Generate character by character\n",
    "    for i in range(max_length):\n",
    "        if len(name) == 0:\n",
    "            # First character - gender-specific starting letters\n",
    "            if gender == 'F':\n",
    "                first_chars = ['a', 'e', 'i', 'o', 'j', 'm', 's', 'k', 'l', 'c', 'n', 'r', 'b', 'h', 'g', 'v', 'z', 'p']\n",
    "                weights = [0.12, 0.10, 0.08, 0.06, 0.08, 0.08, 0.07, 0.06, 0.06, 0.05, 0.05, 0.04, 0.04, 0.03, 0.03, 0.02, 0.02, 0.01]\n",
    "                current_char = np.random.choice(first_chars, p=weights)\n",
    "            else:\n",
    "                first_chars = ['a', 'j', 'm', 'r', 'd', 'c', 'b', 'l', 't', 'n', 's', 'k', 'g', 'h', 'w', 'p', 'v', 'z']\n",
    "                weights = [0.10, 0.09, 0.08, 0.08, 0.07, 0.07, 0.06, 0.06, 0.06, 0.05, 0.05, 0.04, 0.04, 0.04, 0.03, 0.03, 0.02, 0.02]\n",
    "                current_char = np.random.choice(first_chars, p=weights)\n",
    "        else:\n",
    "            # Pattern-based next character\n",
    "            last_char = name[-1] if name else ' '\n",
    "            \n",
    "            vowels = 'aeiou'\n",
    "            consonants = 'bcdfghjklmnpqrstvwxyz'\n",
    "            \n",
    "            if last_char in vowels:\n",
    "                # After vowel, often consonant\n",
    "                consonant_prob = 0.6 + np.random.random() * 0.2\n",
    "                if np.random.random() < consonant_prob:\n",
    "                    current_char = np.random.choice(list(consonants))\n",
    "                else:\n",
    "                    current_char = np.random.choice(list(vowels))\n",
    "            else:\n",
    "                # After consonant, often vowel\n",
    "                vowel_prob = 0.7 + np.random.random() * 0.2\n",
    "                if np.random.random() < vowel_prob:\n",
    "                    current_char = np.random.choice(list(vowels))\n",
    "                else:\n",
    "                    current_char = np.random.choice(list(consonants))\n",
    "            \n",
    "            # End name probability\n",
    "            min_length = 3 + np.random.randint(0, 3)\n",
    "            end_prob = 0.2 + (len(name) - min_length) * 0.1\n",
    "            if len(name) >= min_length and np.random.random() < end_prob:\n",
    "                break\n",
    "        \n",
    "        name += current_char\n",
    "    \n",
    "    # Clean up the name\n",
    "    name = name.strip().capitalize()\n",
    "    \n",
    "    # Ensure reasonable length\n",
    "    if len(name) < 3:\n",
    "        name += np.random.choice(['a', 'e', 'i', 'o'])\n",
    "    \n",
    "    return name if name else \"Nora\"\n",
    "\n",
    "def evaluate_name_ml(name, gender='F'):\n",
    "    \"\"\"Evaluate a name using the ML model.\"\"\"\n",
    "    if not gbr_model:\n",
    "        return {\n",
    "            'name': name,\n",
    "            'score': 50.0,\n",
    "            'quality_tier': 'Unknown',\n",
    "            'known_rank': 'Model not loaded',\n",
    "            'appropriate': True\n",
    "        }\n",
    "    \n",
    "    # Check if inappropriate\n",
    "    name_lower = name.lower()\n",
    "    is_appropriate = name_lower not in bad_words\n",
    "    \n",
    "    # Create feature vector\n",
    "    sex_bit = 0 if gender == 'F' else 1\n",
    "    name_vec = name_to_vec(name)\n",
    "    features = np.array([[sex_bit] + name_vec])\n",
    "    \n",
    "    # Get ML prediction\n",
    "    try:\n",
    "        prediction = gbr_model.predict(features)[0]\n",
    "        raw_score = prediction\n",
    "        \n",
    "        # Apply bad word penalty\n",
    "        if not is_appropriate:\n",
    "            raw_score = -1.0\n",
    "            \n",
    "        # Format score\n",
    "        display_score = format_score(raw_score)\n",
    "        quality_tier = get_quality_tier(raw_score)\n",
    "        \n",
    "    except Exception as e:\n",
    "        print(f\"Prediction error: {e}\")\n",
    "        raw_score = 0.5\n",
    "        display_score = 50.0\n",
    "        quality_tier = \"Unknown\"\n",
    "    \n",
    "    # Check if name is in historical database\n",
    "    feature_key = tuple([sex_bit] + name_vec)\n",
    "    known_rank = known_names.get(feature_key, \"Not found\")\n",
    "    \n",
    "    return {\n",
    "        'name': name,\n",
    "        'score': display_score,\n",
    "        'raw_score': raw_score,\n",
    "        'quality_tier': quality_tier,\n",
    "        'known_rank': known_rank,\n",
    "        'appropriate': is_appropriate\n",
    "    }\n",
    "\n",
    "print(\"✅ Generation and evaluation functions ready!\")"
   ]
  },
  {
   "cell_type": "markdown",
   "metadata": {
    "id": "gradio-interface"
   },
   "source": [
    "## 🎨 Interactive Interface"
   ]
  },
  {
   "cell_type": "code",
   "execution_count": null,
   "metadata": {
    "id": "gradio-setup"
   },
   "outputs": [],
   "source": [
    "import gradio as gr\n",
    "import pandas as pd\n",
    "\n",
    "def generate_names_interface(count, gender, min_score, style):\n",
    "    \"\"\"Generate names for Gradio interface.\"\"\"\n",
    "    results = []\n",
    "    attempts = 0\n",
    "    max_attempts = count * 20  # Reasonable limit\n",
    "    \n",
    "    print(f\"🎯 Generating {count} {gender} names (min score: {min_score}, style: {style})\")\n",
    "    \n",
    "    while len(results) < count and attempts < max_attempts:\n",
    "        attempts += 1\n",
    "        \n",
    "        # Generate name\n",
    "        if style == \"unique\":\n",
    "            name = generate_name_simple(gender)\n",
    "        else:  # random or popular - for demo, use same generation\n",
    "            name = generate_name_simple(gender)\n",
    "        \n",
    "        # Evaluate name\n",
    "        evaluation = evaluate_name_ml(name, gender)\n",
    "        \n",
    "        # Check if meets criteria\n",
    "        score = evaluation['raw_score']\n",
    "        if score * 100 >= min_score and evaluation['appropriate']:\n",
    "            # Check if unique (not in database) for unique style\n",
    "            if style == \"unique\" and evaluation['known_rank'] != \"Not found\":\n",
    "                continue\n",
    "            \n",
    "            results.append({\n",
    "                'Name': evaluation['name'],\n",
    "                'Score': evaluation['score'],\n",
    "                'Quality': evaluation['quality_tier'],\n",
    "                'Historical': evaluation['known_rank']\n",
    "            })\n",
    "    \n",
    "    if not results:\n",
    "        return pd.DataFrame([{\n",
    "            'Name': 'No names found',\n",
    "            'Score': 'N/A',\n",
    "            'Quality': 'Try lower min score',\n",
    "            'Historical': 'N/A'\n",
    "        }])\n",
    "    \n",
    "    # Sort by score\n",
    "    results.sort(key=lambda x: float(str(x['Score']).replace('%', '')), reverse=True)\n",
    "    \n",
    "    print(f\"✅ Generated {len(results)} names in {attempts} attempts\")\n",
    "    return pd.DataFrame(results)\n",
    "\n",
    "def evaluate_name_interface(name, gender):\n",
    "    \"\"\"Evaluate a single name for Gradio interface.\"\"\"\n",
    "    if not name or not name.strip():\n",
    "        return {\"error\": \"Please enter a name to evaluate\"}\n",
    "    \n",
    "    evaluation = evaluate_name_ml(name.strip(), gender)\n",
    "    \n",
    "    return {\n",
    "        \"Name\": evaluation['name'],\n",
    "        \"Score\": f\"{evaluation['score']}%\",\n",
    "        \"Quality Tier\": evaluation['quality_tier'],\n",
    "        \"Historical Rank\": evaluation['known_rank'],\n",
    "        \"Appropriate\": \"Yes\" if evaluation['appropriate'] else \"No\",\n",
    "        \"Raw Score\": round(evaluation['raw_score'], 3)\n",
    "    }\n",
    "\n",
    "print(\"✅ Interface functions ready!\")"
   ]
  },
  {
   "cell_type": "code",
   "metadata": {
    "id": "create-interface"
   },
   "outputs": [],
   "source": "# Create the Gradio interface\nwith gr.Blocks(title=\"NameSmithy - AI Baby Name Generator\", theme=gr.themes.Soft()) as demo:\n    gr.Markdown(\n        \"\"\"\n        # 🔨 NameSmithy - AI Baby Name Generator\n        \n        **Generate unique baby names that look historically popular using machine learning!**\n        \n        Trained on 140+ years of US baby names (77K+ names from 1880-2018)\n        \"\"\"\n    )\n    \n    with gr.Tabs():\n        with gr.TabItem(\"🎯 Name Generator\"):\n            gr.Markdown(\"### Generate Names with AI\")\n            \n            with gr.Row():\n                with gr.Column():\n                    count_input = gr.Slider(\n                        minimum=1, maximum=20, value=5, step=1,\n                        label=\"Number of names\"\n                    )\n                    gender_input = gr.Radio(\n                        choices=[\"F\", \"M\"], value=\"F\",\n                        label=\"Gender\"\n                    )\n                    min_score_input = gr.Slider(\n                        minimum=0, maximum=100, value=70, step=5,\n                        label=\"Minimum Quality Score\"\n                    )\n                    style_input = gr.Radio(\n                        choices=[\"random\", \"unique\", \"popular\"], value=\"unique\",\n                        label=\"Style (unique = never existed before)\"\n                    )\n                    \n                    generate_btn = gr.Button(\"🎯 Generate Names\", variant=\"primary\")\n                \n                with gr.Column():\n                    names_output = gr.Dataframe(\n                        headers=[\"Name\", \"Score\", \"Quality\", \"Historical\"],\n                        label=\"Generated Names\"\n                    )\n            \n            generate_btn.click(\n                fn=generate_names_interface,\n                inputs=[count_input, gender_input, min_score_input, style_input],\n                outputs=names_output\n            )\n        \n        with gr.TabItem(\"📊 Name Evaluator\"):\n            gr.Markdown(\"### Evaluate Any Name\")\n            \n            with gr.Row():\n                with gr.Column():\n                    name_input = gr.Textbox(\n                        label=\"Name to evaluate\",\n                        placeholder=\"Enter any name...\",\n                        value=\"Emma\"\n                    )\n                    eval_gender_input = gr.Radio(\n                        choices=[\"F\", \"M\"], value=\"F\",\n                        label=\"Gender\"\n                    )\n                    \n                    evaluate_btn = gr.Button(\"📊 Evaluate Name\", variant=\"primary\")\n                \n                with gr.Column():\n                    eval_output = gr.JSON(\n                        label=\"Evaluation Results\"\n                    )\n            \n            evaluate_btn.click(\n                fn=evaluate_name_interface,\n                inputs=[name_input, eval_gender_input],\n                outputs=eval_output\n            )\n    \n    gr.Markdown(\n        \"\"\"\n        ---\n        **How it works:** Our GAN-based model learned patterns from 77K+ historical US baby names. \n        Higher scores indicate names that statistically resemble popular historical names.\n        \n        **🔗 [GitHub Repository](https://github.com/MichaelMW/NameSmithy)** | **⭐ Star if you like it!**\n        \"\"\"\n    )\n\nprint(\"✅ Gradio interface created!\")"
  },
  {
   "cell_type": "markdown",
   "metadata": {
    "id": "launch"
   },
   "source": [
    "## 🚀 Launch Demo"
   ]
  },
  {
   "cell_type": "code",
   "execution_count": null,
   "metadata": {
    "id": "launch-demo"
   },
   "outputs": [],
   "source": [
    "# Launch the demo with public sharing\n",
    "print(\"🚀 Launching NameSmithy demo...\")\n",
    "print(\"📝 This will create a public URL you can share with anyone!\")\n",
    "print(\"⏱️  The link will be active for 72 hours.\")\n",
    "\n",
    "demo.launch(\n",
    "    share=True,           # Create public URL\n",
    "    debug=True,           # Show errors\n",
    "    server_name=\"0.0.0.0\",\n",
    "    server_port=7860\n",
    ")"
   ]
  }
 ],
 "metadata": {
  "colab": {
   "provenance": [],
   "collapsed_sections": [
    "install",
    "core-functions",
    "generation"
   ],
   "include_colab_link": true
  },
  "kernelspec": {
   "display_name": "Python 3",
   "name": "python3"
  },
  "language_info": {
   "name": "python"
  }
 },
 "nbformat": 4,
 "nbformat_minor": 0
}